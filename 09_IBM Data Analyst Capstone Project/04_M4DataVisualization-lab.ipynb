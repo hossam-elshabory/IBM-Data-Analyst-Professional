{
  "cells": [
    {
      "cell_type": "markdown",
      "metadata": {
        "id": "-3_8qZx_ywF7"
      },
      "source": [
        "<p style=\"text-align:center\">\n",
        "    <a href=\"https://skills.network/?utm_medium=Exinfluencer&utm_source=Exinfluencer&utm_content=000026UJ&utm_term=10006555&utm_id=NA-SkillsNetwork-Channel-SkillsNetworkCoursesIBMDA0321ENSkillsNetwork21426264-2022-01-01\" target=\"_blank\">\n",
        "    <img src=\"https://cf-courses-data.s3.us.cloud-object-storage.appdomain.cloud/assets/logos/SN_web_lightmode.png\" width=\"200\" alt=\"Skills Network Logo\"  />\n",
        "    </a>\n",
        "</p>\n"
      ]
    },
    {
      "cell_type": "markdown",
      "metadata": {
        "id": "2p55uIR-ywGW"
      },
      "source": [
        "# **Data Visualization Lab**\n"
      ]
    },
    {
      "cell_type": "markdown",
      "metadata": {
        "id": "eGlIgZrQywGa"
      },
      "source": [
        "Estimated time needed: **45 to 60** minutes\n"
      ]
    },
    {
      "cell_type": "markdown",
      "metadata": {
        "id": "K_degYJTywGj"
      },
      "source": [
        "In this assignment you will be focusing on the visualization of data.\n",
        "\n",
        "The data set will be presented to you in the form of a RDBMS.\n",
        "\n",
        "You will have to use SQL queries to extract the data.\n"
      ]
    },
    {
      "cell_type": "markdown",
      "metadata": {
        "id": "AtdY2XCGywGm"
      },
      "source": [
        "## Objectives\n"
      ]
    },
    {
      "cell_type": "markdown",
      "metadata": {
        "id": "r0zdTCXLywGp"
      },
      "source": [
        "In this lab you will perform the following:\n"
      ]
    },
    {
      "cell_type": "markdown",
      "metadata": {
        "id": "CDiIUabrywGz"
      },
      "source": [
        "*   Visualize the distribution of data.\n",
        "\n",
        "*   Visualize the relationship between two features.\n",
        "\n",
        "*   Visualize composition of data.\n",
        "\n",
        "*   Visualize comparison of data.\n"
      ]
    },
    {
      "cell_type": "markdown",
      "metadata": {
        "id": "tYWIUDMjywG3"
      },
      "source": [
        "<hr>\n"
      ]
    },
    {
      "cell_type": "markdown",
      "metadata": {
        "id": "NUs6P9fyywG-"
      },
      "source": [
        "## Demo: How to work with database\n"
      ]
    },
    {
      "cell_type": "markdown",
      "metadata": {
        "id": "Kq2Ny5PVywHv"
      },
      "source": [
        "Download database file.\n"
      ]
    },
    {
      "cell_type": "code",
      "execution_count": 122,
      "metadata": {
        "colab": {
          "base_uri": "https://localhost:8080/"
        },
        "id": "x7oVAVY8ywIB",
        "outputId": "e5aa6d64-d1b0-4d90-d15d-d8869f8f036e"
      },
      "outputs": [
        {
          "output_type": "stream",
          "name": "stdout",
          "text": [
            "--2023-02-25 06:03:02--  https://cf-courses-data.s3.us.cloud-object-storage.appdomain.cloud/IBM-DA0321EN-SkillsNetwork/LargeData/m4_survey_data.sqlite\n",
            "Resolving cf-courses-data.s3.us.cloud-object-storage.appdomain.cloud (cf-courses-data.s3.us.cloud-object-storage.appdomain.cloud)... 169.63.118.104\n",
            "Connecting to cf-courses-data.s3.us.cloud-object-storage.appdomain.cloud (cf-courses-data.s3.us.cloud-object-storage.appdomain.cloud)|169.63.118.104|:443... connected.\n",
            "HTTP request sent, awaiting response... 200 OK\n",
            "Length: 36679680 (35M) [application/octet-stream]\n",
            "Saving to: ‘m4_survey_data.sqlite.7’\n",
            "\n",
            "m4_survey_data.sqli 100%[===================>]  34.98M  33.0MB/s    in 1.1s    \n",
            "\n",
            "2023-02-25 06:03:03 (33.0 MB/s) - ‘m4_survey_data.sqlite.7’ saved [36679680/36679680]\n",
            "\n"
          ]
        }
      ],
      "source": [
        "# Downloading database file.\n",
        "!wget https://cf-courses-data.s3.us.cloud-object-storage.appdomain.cloud/IBM-DA0321EN-SkillsNetwork/LargeData/m4_survey_data.sqlite"
      ]
    },
    {
      "cell_type": "markdown",
      "metadata": {
        "id": "prT2V5qEywIN"
      },
      "source": [
        "Connect to the database.\n"
      ]
    },
    {
      "cell_type": "code",
      "execution_count": 123,
      "metadata": {
        "id": "QtarnrJYywIQ"
      },
      "outputs": [],
      "source": [
        "# Importing sqlite3 to connect to the database file\n",
        "import sqlite3\n",
        "\n",
        "# Openning a connection with the database\n",
        "conn = sqlite3.connect(\"m4_survey_data.sqlite\") "
      ]
    },
    {
      "cell_type": "markdown",
      "metadata": {
        "id": "V060REmcywIU"
      },
      "source": [
        "Import pandas module.\n"
      ]
    },
    {
      "cell_type": "code",
      "execution_count": 124,
      "metadata": {
        "id": "uD-kVBJiywIW"
      },
      "outputs": [],
      "source": [
        "# Importing pandas\n",
        "import pandas as pd\n",
        "# Importing matplotlib and seaborn for ploting\n",
        "import matplotlib.pyplot as plt\n",
        "import seaborn as sns\n",
        "# Using magic method to show plots inside notebook\n",
        "%matplotlib inline"
      ]
    },
    {
      "cell_type": "markdown",
      "metadata": {
        "id": "2C4eomh9ywIY"
      },
      "source": [
        "## Demo: How to run an sql query\n"
      ]
    },
    {
      "cell_type": "code",
      "execution_count": 125,
      "metadata": {
        "colab": {
          "base_uri": "https://localhost:8080/",
          "height": 81
        },
        "id": "hX5kUUZ5ywIa",
        "outputId": "fb5f7b96-b6e1-42f0-d0c9-ba9f26240e1e"
      },
      "outputs": [
        {
          "output_type": "execute_result",
          "data": {
            "text/plain": [
              "   COUNT(*)\n",
              "0     11398"
            ],
            "text/html": [
              "\n",
              "  <div id=\"df-22c7cdf7-7c98-4711-bc9e-90a10a8fd3d2\">\n",
              "    <div class=\"colab-df-container\">\n",
              "      <div>\n",
              "<style scoped>\n",
              "    .dataframe tbody tr th:only-of-type {\n",
              "        vertical-align: middle;\n",
              "    }\n",
              "\n",
              "    .dataframe tbody tr th {\n",
              "        vertical-align: top;\n",
              "    }\n",
              "\n",
              "    .dataframe thead th {\n",
              "        text-align: right;\n",
              "    }\n",
              "</style>\n",
              "<table border=\"1\" class=\"dataframe\">\n",
              "  <thead>\n",
              "    <tr style=\"text-align: right;\">\n",
              "      <th></th>\n",
              "      <th>COUNT(*)</th>\n",
              "    </tr>\n",
              "  </thead>\n",
              "  <tbody>\n",
              "    <tr>\n",
              "      <th>0</th>\n",
              "      <td>11398</td>\n",
              "    </tr>\n",
              "  </tbody>\n",
              "</table>\n",
              "</div>\n",
              "      <button class=\"colab-df-convert\" onclick=\"convertToInteractive('df-22c7cdf7-7c98-4711-bc9e-90a10a8fd3d2')\"\n",
              "              title=\"Convert this dataframe to an interactive table.\"\n",
              "              style=\"display:none;\">\n",
              "        \n",
              "  <svg xmlns=\"http://www.w3.org/2000/svg\" height=\"24px\"viewBox=\"0 0 24 24\"\n",
              "       width=\"24px\">\n",
              "    <path d=\"M0 0h24v24H0V0z\" fill=\"none\"/>\n",
              "    <path d=\"M18.56 5.44l.94 2.06.94-2.06 2.06-.94-2.06-.94-.94-2.06-.94 2.06-2.06.94zm-11 1L8.5 8.5l.94-2.06 2.06-.94-2.06-.94L8.5 2.5l-.94 2.06-2.06.94zm10 10l.94 2.06.94-2.06 2.06-.94-2.06-.94-.94-2.06-.94 2.06-2.06.94z\"/><path d=\"M17.41 7.96l-1.37-1.37c-.4-.4-.92-.59-1.43-.59-.52 0-1.04.2-1.43.59L10.3 9.45l-7.72 7.72c-.78.78-.78 2.05 0 2.83L4 21.41c.39.39.9.59 1.41.59.51 0 1.02-.2 1.41-.59l7.78-7.78 2.81-2.81c.8-.78.8-2.07 0-2.86zM5.41 20L4 18.59l7.72-7.72 1.47 1.35L5.41 20z\"/>\n",
              "  </svg>\n",
              "      </button>\n",
              "      \n",
              "  <style>\n",
              "    .colab-df-container {\n",
              "      display:flex;\n",
              "      flex-wrap:wrap;\n",
              "      gap: 12px;\n",
              "    }\n",
              "\n",
              "    .colab-df-convert {\n",
              "      background-color: #E8F0FE;\n",
              "      border: none;\n",
              "      border-radius: 50%;\n",
              "      cursor: pointer;\n",
              "      display: none;\n",
              "      fill: #1967D2;\n",
              "      height: 32px;\n",
              "      padding: 0 0 0 0;\n",
              "      width: 32px;\n",
              "    }\n",
              "\n",
              "    .colab-df-convert:hover {\n",
              "      background-color: #E2EBFA;\n",
              "      box-shadow: 0px 1px 2px rgba(60, 64, 67, 0.3), 0px 1px 3px 1px rgba(60, 64, 67, 0.15);\n",
              "      fill: #174EA6;\n",
              "    }\n",
              "\n",
              "    [theme=dark] .colab-df-convert {\n",
              "      background-color: #3B4455;\n",
              "      fill: #D2E3FC;\n",
              "    }\n",
              "\n",
              "    [theme=dark] .colab-df-convert:hover {\n",
              "      background-color: #434B5C;\n",
              "      box-shadow: 0px 1px 3px 1px rgba(0, 0, 0, 0.15);\n",
              "      filter: drop-shadow(0px 1px 2px rgba(0, 0, 0, 0.3));\n",
              "      fill: #FFFFFF;\n",
              "    }\n",
              "  </style>\n",
              "\n",
              "      <script>\n",
              "        const buttonEl =\n",
              "          document.querySelector('#df-22c7cdf7-7c98-4711-bc9e-90a10a8fd3d2 button.colab-df-convert');\n",
              "        buttonEl.style.display =\n",
              "          google.colab.kernel.accessAllowed ? 'block' : 'none';\n",
              "\n",
              "        async function convertToInteractive(key) {\n",
              "          const element = document.querySelector('#df-22c7cdf7-7c98-4711-bc9e-90a10a8fd3d2');\n",
              "          const dataTable =\n",
              "            await google.colab.kernel.invokeFunction('convertToInteractive',\n",
              "                                                     [key], {});\n",
              "          if (!dataTable) return;\n",
              "\n",
              "          const docLinkHtml = 'Like what you see? Visit the ' +\n",
              "            '<a target=\"_blank\" href=https://colab.research.google.com/notebooks/data_table.ipynb>data table notebook</a>'\n",
              "            + ' to learn more about interactive tables.';\n",
              "          element.innerHTML = '';\n",
              "          dataTable['output_type'] = 'display_data';\n",
              "          await google.colab.output.renderOutput(dataTable, element);\n",
              "          const docLink = document.createElement('div');\n",
              "          docLink.innerHTML = docLinkHtml;\n",
              "          element.appendChild(docLink);\n",
              "        }\n",
              "      </script>\n",
              "    </div>\n",
              "  </div>\n",
              "  "
            ]
          },
          "metadata": {},
          "execution_count": 125
        }
      ],
      "source": [
        "# print how many rows are there in the table named 'master'\n",
        "query = \"\"\"\n",
        "SELECT COUNT(*)\n",
        "FROM master\n",
        "\"\"\"\n",
        "\n",
        "# the read_sql_query runs the sql query and returns the data as a dataframe\n",
        "df = pd.read_sql_query(query, conn)\n",
        "df.head()"
      ]
    },
    {
      "cell_type": "markdown",
      "metadata": {
        "id": "iv-f03bEywId"
      },
      "source": [
        "## Demo: How to list all tables\n"
      ]
    },
    {
      "cell_type": "code",
      "execution_count": 126,
      "metadata": {
        "scrolled": true,
        "colab": {
          "base_uri": "https://localhost:8080/",
          "height": 802
        },
        "id": "l3dBTLQyywIe",
        "outputId": "3fc8e170-3ae6-405a-9433-5cb31c5fbe8b"
      },
      "outputs": [
        {
          "output_type": "execute_result",
          "data": {
            "text/plain": [
              "                Table_Name\n",
              "0                 EduOther\n",
              "1                  DevType\n",
              "2                  LastInt\n",
              "3               JobFactors\n",
              "4                 WorkPlan\n",
              "5            WorkChallenge\n",
              "6       LanguageWorkedWith\n",
              "7   LanguageDesireNextYear\n",
              "8       DatabaseWorkedWith\n",
              "9   DatabaseDesireNextYear\n",
              "10      PlatformWorkedWith\n",
              "11  PlatformDesireNextYear\n",
              "12      WebFrameWorkedWith\n",
              "13  WebFrameDesireNextYear\n",
              "14      MiscTechWorkedWith\n",
              "15  MiscTechDesireNextYear\n",
              "16              DevEnviron\n",
              "17              Containers\n",
              "18               SOVisitTo\n",
              "19            SONewContent\n",
              "20                  Gender\n",
              "21               Sexuality\n",
              "22               Ethnicity\n",
              "23                  master"
            ],
            "text/html": [
              "\n",
              "  <div id=\"df-5aa2e8ac-b685-404d-8c69-806da7da2d53\">\n",
              "    <div class=\"colab-df-container\">\n",
              "      <div>\n",
              "<style scoped>\n",
              "    .dataframe tbody tr th:only-of-type {\n",
              "        vertical-align: middle;\n",
              "    }\n",
              "\n",
              "    .dataframe tbody tr th {\n",
              "        vertical-align: top;\n",
              "    }\n",
              "\n",
              "    .dataframe thead th {\n",
              "        text-align: right;\n",
              "    }\n",
              "</style>\n",
              "<table border=\"1\" class=\"dataframe\">\n",
              "  <thead>\n",
              "    <tr style=\"text-align: right;\">\n",
              "      <th></th>\n",
              "      <th>Table_Name</th>\n",
              "    </tr>\n",
              "  </thead>\n",
              "  <tbody>\n",
              "    <tr>\n",
              "      <th>0</th>\n",
              "      <td>EduOther</td>\n",
              "    </tr>\n",
              "    <tr>\n",
              "      <th>1</th>\n",
              "      <td>DevType</td>\n",
              "    </tr>\n",
              "    <tr>\n",
              "      <th>2</th>\n",
              "      <td>LastInt</td>\n",
              "    </tr>\n",
              "    <tr>\n",
              "      <th>3</th>\n",
              "      <td>JobFactors</td>\n",
              "    </tr>\n",
              "    <tr>\n",
              "      <th>4</th>\n",
              "      <td>WorkPlan</td>\n",
              "    </tr>\n",
              "    <tr>\n",
              "      <th>5</th>\n",
              "      <td>WorkChallenge</td>\n",
              "    </tr>\n",
              "    <tr>\n",
              "      <th>6</th>\n",
              "      <td>LanguageWorkedWith</td>\n",
              "    </tr>\n",
              "    <tr>\n",
              "      <th>7</th>\n",
              "      <td>LanguageDesireNextYear</td>\n",
              "    </tr>\n",
              "    <tr>\n",
              "      <th>8</th>\n",
              "      <td>DatabaseWorkedWith</td>\n",
              "    </tr>\n",
              "    <tr>\n",
              "      <th>9</th>\n",
              "      <td>DatabaseDesireNextYear</td>\n",
              "    </tr>\n",
              "    <tr>\n",
              "      <th>10</th>\n",
              "      <td>PlatformWorkedWith</td>\n",
              "    </tr>\n",
              "    <tr>\n",
              "      <th>11</th>\n",
              "      <td>PlatformDesireNextYear</td>\n",
              "    </tr>\n",
              "    <tr>\n",
              "      <th>12</th>\n",
              "      <td>WebFrameWorkedWith</td>\n",
              "    </tr>\n",
              "    <tr>\n",
              "      <th>13</th>\n",
              "      <td>WebFrameDesireNextYear</td>\n",
              "    </tr>\n",
              "    <tr>\n",
              "      <th>14</th>\n",
              "      <td>MiscTechWorkedWith</td>\n",
              "    </tr>\n",
              "    <tr>\n",
              "      <th>15</th>\n",
              "      <td>MiscTechDesireNextYear</td>\n",
              "    </tr>\n",
              "    <tr>\n",
              "      <th>16</th>\n",
              "      <td>DevEnviron</td>\n",
              "    </tr>\n",
              "    <tr>\n",
              "      <th>17</th>\n",
              "      <td>Containers</td>\n",
              "    </tr>\n",
              "    <tr>\n",
              "      <th>18</th>\n",
              "      <td>SOVisitTo</td>\n",
              "    </tr>\n",
              "    <tr>\n",
              "      <th>19</th>\n",
              "      <td>SONewContent</td>\n",
              "    </tr>\n",
              "    <tr>\n",
              "      <th>20</th>\n",
              "      <td>Gender</td>\n",
              "    </tr>\n",
              "    <tr>\n",
              "      <th>21</th>\n",
              "      <td>Sexuality</td>\n",
              "    </tr>\n",
              "    <tr>\n",
              "      <th>22</th>\n",
              "      <td>Ethnicity</td>\n",
              "    </tr>\n",
              "    <tr>\n",
              "      <th>23</th>\n",
              "      <td>master</td>\n",
              "    </tr>\n",
              "  </tbody>\n",
              "</table>\n",
              "</div>\n",
              "      <button class=\"colab-df-convert\" onclick=\"convertToInteractive('df-5aa2e8ac-b685-404d-8c69-806da7da2d53')\"\n",
              "              title=\"Convert this dataframe to an interactive table.\"\n",
              "              style=\"display:none;\">\n",
              "        \n",
              "  <svg xmlns=\"http://www.w3.org/2000/svg\" height=\"24px\"viewBox=\"0 0 24 24\"\n",
              "       width=\"24px\">\n",
              "    <path d=\"M0 0h24v24H0V0z\" fill=\"none\"/>\n",
              "    <path d=\"M18.56 5.44l.94 2.06.94-2.06 2.06-.94-2.06-.94-.94-2.06-.94 2.06-2.06.94zm-11 1L8.5 8.5l.94-2.06 2.06-.94-2.06-.94L8.5 2.5l-.94 2.06-2.06.94zm10 10l.94 2.06.94-2.06 2.06-.94-2.06-.94-.94-2.06-.94 2.06-2.06.94z\"/><path d=\"M17.41 7.96l-1.37-1.37c-.4-.4-.92-.59-1.43-.59-.52 0-1.04.2-1.43.59L10.3 9.45l-7.72 7.72c-.78.78-.78 2.05 0 2.83L4 21.41c.39.39.9.59 1.41.59.51 0 1.02-.2 1.41-.59l7.78-7.78 2.81-2.81c.8-.78.8-2.07 0-2.86zM5.41 20L4 18.59l7.72-7.72 1.47 1.35L5.41 20z\"/>\n",
              "  </svg>\n",
              "      </button>\n",
              "      \n",
              "  <style>\n",
              "    .colab-df-container {\n",
              "      display:flex;\n",
              "      flex-wrap:wrap;\n",
              "      gap: 12px;\n",
              "    }\n",
              "\n",
              "    .colab-df-convert {\n",
              "      background-color: #E8F0FE;\n",
              "      border: none;\n",
              "      border-radius: 50%;\n",
              "      cursor: pointer;\n",
              "      display: none;\n",
              "      fill: #1967D2;\n",
              "      height: 32px;\n",
              "      padding: 0 0 0 0;\n",
              "      width: 32px;\n",
              "    }\n",
              "\n",
              "    .colab-df-convert:hover {\n",
              "      background-color: #E2EBFA;\n",
              "      box-shadow: 0px 1px 2px rgba(60, 64, 67, 0.3), 0px 1px 3px 1px rgba(60, 64, 67, 0.15);\n",
              "      fill: #174EA6;\n",
              "    }\n",
              "\n",
              "    [theme=dark] .colab-df-convert {\n",
              "      background-color: #3B4455;\n",
              "      fill: #D2E3FC;\n",
              "    }\n",
              "\n",
              "    [theme=dark] .colab-df-convert:hover {\n",
              "      background-color: #434B5C;\n",
              "      box-shadow: 0px 1px 3px 1px rgba(0, 0, 0, 0.15);\n",
              "      filter: drop-shadow(0px 1px 2px rgba(0, 0, 0, 0.3));\n",
              "      fill: #FFFFFF;\n",
              "    }\n",
              "  </style>\n",
              "\n",
              "      <script>\n",
              "        const buttonEl =\n",
              "          document.querySelector('#df-5aa2e8ac-b685-404d-8c69-806da7da2d53 button.colab-df-convert');\n",
              "        buttonEl.style.display =\n",
              "          google.colab.kernel.accessAllowed ? 'block' : 'none';\n",
              "\n",
              "        async function convertToInteractive(key) {\n",
              "          const element = document.querySelector('#df-5aa2e8ac-b685-404d-8c69-806da7da2d53');\n",
              "          const dataTable =\n",
              "            await google.colab.kernel.invokeFunction('convertToInteractive',\n",
              "                                                     [key], {});\n",
              "          if (!dataTable) return;\n",
              "\n",
              "          const docLinkHtml = 'Like what you see? Visit the ' +\n",
              "            '<a target=\"_blank\" href=https://colab.research.google.com/notebooks/data_table.ipynb>data table notebook</a>'\n",
              "            + ' to learn more about interactive tables.';\n",
              "          element.innerHTML = '';\n",
              "          dataTable['output_type'] = 'display_data';\n",
              "          await google.colab.output.renderOutput(dataTable, element);\n",
              "          const docLink = document.createElement('div');\n",
              "          docLink.innerHTML = docLinkHtml;\n",
              "          element.appendChild(docLink);\n",
              "        }\n",
              "      </script>\n",
              "    </div>\n",
              "  </div>\n",
              "  "
            ]
          },
          "metadata": {},
          "execution_count": 126
        }
      ],
      "source": [
        "# print all the tables names in the database\n",
        "query = \"\"\"\n",
        "SELECT name as Table_Name FROM\n",
        "sqlite_master WHERE\n",
        "type = 'table'\n",
        "\"\"\"\n",
        "# the read_sql_query runs the sql query and returns the data as a dataframe\n",
        "pd.read_sql_query(query, conn)"
      ]
    },
    {
      "cell_type": "markdown",
      "metadata": {
        "id": "lYSZ-GDUywIh"
      },
      "source": [
        "## Demo: How to run a group by query\n"
      ]
    },
    {
      "cell_type": "code",
      "execution_count": 127,
      "metadata": {
        "colab": {
          "base_uri": "https://localhost:8080/",
          "height": 1000
        },
        "id": "YYTk4jyVywIi",
        "outputId": "bebab6ff-0a0a-4b8c-ff06-01c49fbfb9a2"
      },
      "outputs": [
        {
          "output_type": "execute_result",
          "data": {
            "text/plain": [
              "     Age  count\n",
              "0    NaN    287\n",
              "1   16.0      3\n",
              "2   17.0      6\n",
              "3   18.0     29\n",
              "4   19.0     78\n",
              "5   20.0    109\n",
              "6   21.0    203\n",
              "7   22.0    406\n",
              "8   23.0    581\n",
              "9   24.0    679\n",
              "10  25.0    738\n",
              "11  26.0    720\n",
              "12  27.0    724\n",
              "13  28.0    787\n",
              "14  29.0    697\n",
              "15  30.0    651\n",
              "16  31.0    531\n",
              "17  32.0    489\n",
              "18  33.0    483\n",
              "19  34.0    395\n",
              "20  35.0    393\n",
              "21  36.0    308\n",
              "22  37.0    280\n",
              "23  38.0    279\n",
              "24  39.0    232\n",
              "25  40.0    187\n",
              "26  41.0    136\n",
              "27  42.0    162\n",
              "28  43.0    100\n",
              "29  44.0     95\n",
              "30  45.0     85\n",
              "31  46.0     66\n",
              "32  47.0     68\n",
              "33  48.0     64\n",
              "34  49.0     66\n",
              "35  50.0     57\n",
              "36  51.0     29\n",
              "37  52.0     41\n",
              "38  53.0     32\n",
              "39  54.0     26\n",
              "40  55.0     13\n",
              "41  56.0     16\n",
              "42  57.0     11\n",
              "43  58.0     12\n",
              "44  59.0     11\n",
              "45  60.0      2\n",
              "46  61.0     10\n",
              "47  62.0      5\n",
              "48  63.0      7\n",
              "49  65.0      2\n",
              "50  66.0      1\n",
              "51  67.0      1\n",
              "52  69.0      1\n",
              "53  71.0      2\n",
              "54  72.0      1\n",
              "55  99.0      1"
            ],
            "text/html": [
              "\n",
              "  <div id=\"df-4659bf10-dedc-4126-8f2c-01f2d32ea82c\">\n",
              "    <div class=\"colab-df-container\">\n",
              "      <div>\n",
              "<style scoped>\n",
              "    .dataframe tbody tr th:only-of-type {\n",
              "        vertical-align: middle;\n",
              "    }\n",
              "\n",
              "    .dataframe tbody tr th {\n",
              "        vertical-align: top;\n",
              "    }\n",
              "\n",
              "    .dataframe thead th {\n",
              "        text-align: right;\n",
              "    }\n",
              "</style>\n",
              "<table border=\"1\" class=\"dataframe\">\n",
              "  <thead>\n",
              "    <tr style=\"text-align: right;\">\n",
              "      <th></th>\n",
              "      <th>Age</th>\n",
              "      <th>count</th>\n",
              "    </tr>\n",
              "  </thead>\n",
              "  <tbody>\n",
              "    <tr>\n",
              "      <th>0</th>\n",
              "      <td>NaN</td>\n",
              "      <td>287</td>\n",
              "    </tr>\n",
              "    <tr>\n",
              "      <th>1</th>\n",
              "      <td>16.0</td>\n",
              "      <td>3</td>\n",
              "    </tr>\n",
              "    <tr>\n",
              "      <th>2</th>\n",
              "      <td>17.0</td>\n",
              "      <td>6</td>\n",
              "    </tr>\n",
              "    <tr>\n",
              "      <th>3</th>\n",
              "      <td>18.0</td>\n",
              "      <td>29</td>\n",
              "    </tr>\n",
              "    <tr>\n",
              "      <th>4</th>\n",
              "      <td>19.0</td>\n",
              "      <td>78</td>\n",
              "    </tr>\n",
              "    <tr>\n",
              "      <th>5</th>\n",
              "      <td>20.0</td>\n",
              "      <td>109</td>\n",
              "    </tr>\n",
              "    <tr>\n",
              "      <th>6</th>\n",
              "      <td>21.0</td>\n",
              "      <td>203</td>\n",
              "    </tr>\n",
              "    <tr>\n",
              "      <th>7</th>\n",
              "      <td>22.0</td>\n",
              "      <td>406</td>\n",
              "    </tr>\n",
              "    <tr>\n",
              "      <th>8</th>\n",
              "      <td>23.0</td>\n",
              "      <td>581</td>\n",
              "    </tr>\n",
              "    <tr>\n",
              "      <th>9</th>\n",
              "      <td>24.0</td>\n",
              "      <td>679</td>\n",
              "    </tr>\n",
              "    <tr>\n",
              "      <th>10</th>\n",
              "      <td>25.0</td>\n",
              "      <td>738</td>\n",
              "    </tr>\n",
              "    <tr>\n",
              "      <th>11</th>\n",
              "      <td>26.0</td>\n",
              "      <td>720</td>\n",
              "    </tr>\n",
              "    <tr>\n",
              "      <th>12</th>\n",
              "      <td>27.0</td>\n",
              "      <td>724</td>\n",
              "    </tr>\n",
              "    <tr>\n",
              "      <th>13</th>\n",
              "      <td>28.0</td>\n",
              "      <td>787</td>\n",
              "    </tr>\n",
              "    <tr>\n",
              "      <th>14</th>\n",
              "      <td>29.0</td>\n",
              "      <td>697</td>\n",
              "    </tr>\n",
              "    <tr>\n",
              "      <th>15</th>\n",
              "      <td>30.0</td>\n",
              "      <td>651</td>\n",
              "    </tr>\n",
              "    <tr>\n",
              "      <th>16</th>\n",
              "      <td>31.0</td>\n",
              "      <td>531</td>\n",
              "    </tr>\n",
              "    <tr>\n",
              "      <th>17</th>\n",
              "      <td>32.0</td>\n",
              "      <td>489</td>\n",
              "    </tr>\n",
              "    <tr>\n",
              "      <th>18</th>\n",
              "      <td>33.0</td>\n",
              "      <td>483</td>\n",
              "    </tr>\n",
              "    <tr>\n",
              "      <th>19</th>\n",
              "      <td>34.0</td>\n",
              "      <td>395</td>\n",
              "    </tr>\n",
              "    <tr>\n",
              "      <th>20</th>\n",
              "      <td>35.0</td>\n",
              "      <td>393</td>\n",
              "    </tr>\n",
              "    <tr>\n",
              "      <th>21</th>\n",
              "      <td>36.0</td>\n",
              "      <td>308</td>\n",
              "    </tr>\n",
              "    <tr>\n",
              "      <th>22</th>\n",
              "      <td>37.0</td>\n",
              "      <td>280</td>\n",
              "    </tr>\n",
              "    <tr>\n",
              "      <th>23</th>\n",
              "      <td>38.0</td>\n",
              "      <td>279</td>\n",
              "    </tr>\n",
              "    <tr>\n",
              "      <th>24</th>\n",
              "      <td>39.0</td>\n",
              "      <td>232</td>\n",
              "    </tr>\n",
              "    <tr>\n",
              "      <th>25</th>\n",
              "      <td>40.0</td>\n",
              "      <td>187</td>\n",
              "    </tr>\n",
              "    <tr>\n",
              "      <th>26</th>\n",
              "      <td>41.0</td>\n",
              "      <td>136</td>\n",
              "    </tr>\n",
              "    <tr>\n",
              "      <th>27</th>\n",
              "      <td>42.0</td>\n",
              "      <td>162</td>\n",
              "    </tr>\n",
              "    <tr>\n",
              "      <th>28</th>\n",
              "      <td>43.0</td>\n",
              "      <td>100</td>\n",
              "    </tr>\n",
              "    <tr>\n",
              "      <th>29</th>\n",
              "      <td>44.0</td>\n",
              "      <td>95</td>\n",
              "    </tr>\n",
              "    <tr>\n",
              "      <th>30</th>\n",
              "      <td>45.0</td>\n",
              "      <td>85</td>\n",
              "    </tr>\n",
              "    <tr>\n",
              "      <th>31</th>\n",
              "      <td>46.0</td>\n",
              "      <td>66</td>\n",
              "    </tr>\n",
              "    <tr>\n",
              "      <th>32</th>\n",
              "      <td>47.0</td>\n",
              "      <td>68</td>\n",
              "    </tr>\n",
              "    <tr>\n",
              "      <th>33</th>\n",
              "      <td>48.0</td>\n",
              "      <td>64</td>\n",
              "    </tr>\n",
              "    <tr>\n",
              "      <th>34</th>\n",
              "      <td>49.0</td>\n",
              "      <td>66</td>\n",
              "    </tr>\n",
              "    <tr>\n",
              "      <th>35</th>\n",
              "      <td>50.0</td>\n",
              "      <td>57</td>\n",
              "    </tr>\n",
              "    <tr>\n",
              "      <th>36</th>\n",
              "      <td>51.0</td>\n",
              "      <td>29</td>\n",
              "    </tr>\n",
              "    <tr>\n",
              "      <th>37</th>\n",
              "      <td>52.0</td>\n",
              "      <td>41</td>\n",
              "    </tr>\n",
              "    <tr>\n",
              "      <th>38</th>\n",
              "      <td>53.0</td>\n",
              "      <td>32</td>\n",
              "    </tr>\n",
              "    <tr>\n",
              "      <th>39</th>\n",
              "      <td>54.0</td>\n",
              "      <td>26</td>\n",
              "    </tr>\n",
              "    <tr>\n",
              "      <th>40</th>\n",
              "      <td>55.0</td>\n",
              "      <td>13</td>\n",
              "    </tr>\n",
              "    <tr>\n",
              "      <th>41</th>\n",
              "      <td>56.0</td>\n",
              "      <td>16</td>\n",
              "    </tr>\n",
              "    <tr>\n",
              "      <th>42</th>\n",
              "      <td>57.0</td>\n",
              "      <td>11</td>\n",
              "    </tr>\n",
              "    <tr>\n",
              "      <th>43</th>\n",
              "      <td>58.0</td>\n",
              "      <td>12</td>\n",
              "    </tr>\n",
              "    <tr>\n",
              "      <th>44</th>\n",
              "      <td>59.0</td>\n",
              "      <td>11</td>\n",
              "    </tr>\n",
              "    <tr>\n",
              "      <th>45</th>\n",
              "      <td>60.0</td>\n",
              "      <td>2</td>\n",
              "    </tr>\n",
              "    <tr>\n",
              "      <th>46</th>\n",
              "      <td>61.0</td>\n",
              "      <td>10</td>\n",
              "    </tr>\n",
              "    <tr>\n",
              "      <th>47</th>\n",
              "      <td>62.0</td>\n",
              "      <td>5</td>\n",
              "    </tr>\n",
              "    <tr>\n",
              "      <th>48</th>\n",
              "      <td>63.0</td>\n",
              "      <td>7</td>\n",
              "    </tr>\n",
              "    <tr>\n",
              "      <th>49</th>\n",
              "      <td>65.0</td>\n",
              "      <td>2</td>\n",
              "    </tr>\n",
              "    <tr>\n",
              "      <th>50</th>\n",
              "      <td>66.0</td>\n",
              "      <td>1</td>\n",
              "    </tr>\n",
              "    <tr>\n",
              "      <th>51</th>\n",
              "      <td>67.0</td>\n",
              "      <td>1</td>\n",
              "    </tr>\n",
              "    <tr>\n",
              "      <th>52</th>\n",
              "      <td>69.0</td>\n",
              "      <td>1</td>\n",
              "    </tr>\n",
              "    <tr>\n",
              "      <th>53</th>\n",
              "      <td>71.0</td>\n",
              "      <td>2</td>\n",
              "    </tr>\n",
              "    <tr>\n",
              "      <th>54</th>\n",
              "      <td>72.0</td>\n",
              "      <td>1</td>\n",
              "    </tr>\n",
              "    <tr>\n",
              "      <th>55</th>\n",
              "      <td>99.0</td>\n",
              "      <td>1</td>\n",
              "    </tr>\n",
              "  </tbody>\n",
              "</table>\n",
              "</div>\n",
              "      <button class=\"colab-df-convert\" onclick=\"convertToInteractive('df-4659bf10-dedc-4126-8f2c-01f2d32ea82c')\"\n",
              "              title=\"Convert this dataframe to an interactive table.\"\n",
              "              style=\"display:none;\">\n",
              "        \n",
              "  <svg xmlns=\"http://www.w3.org/2000/svg\" height=\"24px\"viewBox=\"0 0 24 24\"\n",
              "       width=\"24px\">\n",
              "    <path d=\"M0 0h24v24H0V0z\" fill=\"none\"/>\n",
              "    <path d=\"M18.56 5.44l.94 2.06.94-2.06 2.06-.94-2.06-.94-.94-2.06-.94 2.06-2.06.94zm-11 1L8.5 8.5l.94-2.06 2.06-.94-2.06-.94L8.5 2.5l-.94 2.06-2.06.94zm10 10l.94 2.06.94-2.06 2.06-.94-2.06-.94-.94-2.06-.94 2.06-2.06.94z\"/><path d=\"M17.41 7.96l-1.37-1.37c-.4-.4-.92-.59-1.43-.59-.52 0-1.04.2-1.43.59L10.3 9.45l-7.72 7.72c-.78.78-.78 2.05 0 2.83L4 21.41c.39.39.9.59 1.41.59.51 0 1.02-.2 1.41-.59l7.78-7.78 2.81-2.81c.8-.78.8-2.07 0-2.86zM5.41 20L4 18.59l7.72-7.72 1.47 1.35L5.41 20z\"/>\n",
              "  </svg>\n",
              "      </button>\n",
              "      \n",
              "  <style>\n",
              "    .colab-df-container {\n",
              "      display:flex;\n",
              "      flex-wrap:wrap;\n",
              "      gap: 12px;\n",
              "    }\n",
              "\n",
              "    .colab-df-convert {\n",
              "      background-color: #E8F0FE;\n",
              "      border: none;\n",
              "      border-radius: 50%;\n",
              "      cursor: pointer;\n",
              "      display: none;\n",
              "      fill: #1967D2;\n",
              "      height: 32px;\n",
              "      padding: 0 0 0 0;\n",
              "      width: 32px;\n",
              "    }\n",
              "\n",
              "    .colab-df-convert:hover {\n",
              "      background-color: #E2EBFA;\n",
              "      box-shadow: 0px 1px 2px rgba(60, 64, 67, 0.3), 0px 1px 3px 1px rgba(60, 64, 67, 0.15);\n",
              "      fill: #174EA6;\n",
              "    }\n",
              "\n",
              "    [theme=dark] .colab-df-convert {\n",
              "      background-color: #3B4455;\n",
              "      fill: #D2E3FC;\n",
              "    }\n",
              "\n",
              "    [theme=dark] .colab-df-convert:hover {\n",
              "      background-color: #434B5C;\n",
              "      box-shadow: 0px 1px 3px 1px rgba(0, 0, 0, 0.15);\n",
              "      filter: drop-shadow(0px 1px 2px rgba(0, 0, 0, 0.3));\n",
              "      fill: #FFFFFF;\n",
              "    }\n",
              "  </style>\n",
              "\n",
              "      <script>\n",
              "        const buttonEl =\n",
              "          document.querySelector('#df-4659bf10-dedc-4126-8f2c-01f2d32ea82c button.colab-df-convert');\n",
              "        buttonEl.style.display =\n",
              "          google.colab.kernel.accessAllowed ? 'block' : 'none';\n",
              "\n",
              "        async function convertToInteractive(key) {\n",
              "          const element = document.querySelector('#df-4659bf10-dedc-4126-8f2c-01f2d32ea82c');\n",
              "          const dataTable =\n",
              "            await google.colab.kernel.invokeFunction('convertToInteractive',\n",
              "                                                     [key], {});\n",
              "          if (!dataTable) return;\n",
              "\n",
              "          const docLinkHtml = 'Like what you see? Visit the ' +\n",
              "            '<a target=\"_blank\" href=https://colab.research.google.com/notebooks/data_table.ipynb>data table notebook</a>'\n",
              "            + ' to learn more about interactive tables.';\n",
              "          element.innerHTML = '';\n",
              "          dataTable['output_type'] = 'display_data';\n",
              "          await google.colab.output.renderOutput(dataTable, element);\n",
              "          const docLink = document.createElement('div');\n",
              "          docLink.innerHTML = docLinkHtml;\n",
              "          element.appendChild(docLink);\n",
              "        }\n",
              "      </script>\n",
              "    </div>\n",
              "  </div>\n",
              "  "
            ]
          },
          "metadata": {},
          "execution_count": 127
        }
      ],
      "source": [
        "query = \"\"\"\n",
        "SELECT Age,COUNT(*) as count\n",
        "FROM master\n",
        "GROUP BY age\n",
        "\"\"\"\n",
        "pd.read_sql_query(query, conn)"
      ]
    },
    {
      "cell_type": "markdown",
      "metadata": {
        "id": "cdM6-UzhywIl"
      },
      "source": [
        "## Demo: How to describe a table\n"
      ]
    },
    {
      "cell_type": "code",
      "execution_count": 128,
      "metadata": {
        "colab": {
          "base_uri": "https://localhost:8080/"
        },
        "id": "nSYeBwZTywIn",
        "outputId": "b7cc130f-6c8d-486a-93a0-f6bb0375ab4a"
      },
      "outputs": [
        {
          "output_type": "stream",
          "name": "stdout",
          "text": [
            "CREATE TABLE \"master\" (\n",
            "\"index\" INTEGER,\n",
            "  \"Respondent\" INTEGER,\n",
            "  \"MainBranch\" TEXT,\n",
            "  \"Hobbyist\" TEXT,\n",
            "  \"OpenSourcer\" TEXT,\n",
            "  \"OpenSource\" TEXT,\n",
            "  \"Employment\" TEXT,\n",
            "  \"Country\" TEXT,\n",
            "  \"Student\" TEXT,\n",
            "  \"EdLevel\" TEXT,\n",
            "  \"UndergradMajor\" TEXT,\n",
            "  \"OrgSize\" TEXT,\n",
            "  \"YearsCode\" TEXT,\n",
            "  \"Age1stCode\" TEXT,\n",
            "  \"YearsCodePro\" TEXT,\n",
            "  \"CareerSat\" TEXT,\n",
            "  \"JobSat\" TEXT,\n",
            "  \"MgrIdiot\" TEXT,\n",
            "  \"MgrMoney\" TEXT,\n",
            "  \"MgrWant\" TEXT,\n",
            "  \"JobSeek\" TEXT,\n",
            "  \"LastHireDate\" TEXT,\n",
            "  \"FizzBuzz\" TEXT,\n",
            "  \"ResumeUpdate\" TEXT,\n",
            "  \"CurrencySymbol\" TEXT,\n",
            "  \"CurrencyDesc\" TEXT,\n",
            "  \"CompTotal\" REAL,\n",
            "  \"CompFreq\" TEXT,\n",
            "  \"ConvertedComp\" REAL,\n",
            "  \"WorkWeekHrs\" REAL,\n",
            "  \"WorkRemote\" TEXT,\n",
            "  \"WorkLoc\" TEXT,\n",
            "  \"ImpSyn\" TEXT,\n",
            "  \"CodeRev\" TEXT,\n",
            "  \"CodeRevHrs\" REAL,\n",
            "  \"UnitTests\" TEXT,\n",
            "  \"PurchaseHow\" TEXT,\n",
            "  \"PurchaseWhat\" TEXT,\n",
            "  \"OpSys\" TEXT,\n",
            "  \"BlockchainOrg\" TEXT,\n",
            "  \"BlockchainIs\" TEXT,\n",
            "  \"BetterLife\" TEXT,\n",
            "  \"ITperson\" TEXT,\n",
            "  \"OffOn\" TEXT,\n",
            "  \"SocialMedia\" TEXT,\n",
            "  \"Extraversion\" TEXT,\n",
            "  \"ScreenName\" TEXT,\n",
            "  \"SOVisit1st\" TEXT,\n",
            "  \"SOVisitFreq\" TEXT,\n",
            "  \"SOFindAnswer\" TEXT,\n",
            "  \"SOTimeSaved\" TEXT,\n",
            "  \"SOHowMuchTime\" TEXT,\n",
            "  \"SOAccount\" TEXT,\n",
            "  \"SOPartFreq\" TEXT,\n",
            "  \"SOJobs\" TEXT,\n",
            "  \"EntTeams\" TEXT,\n",
            "  \"SOComm\" TEXT,\n",
            "  \"WelcomeChange\" TEXT,\n",
            "  \"Age\" REAL,\n",
            "  \"Trans\" TEXT,\n",
            "  \"Dependents\" TEXT,\n",
            "  \"SurveyLength\" TEXT,\n",
            "  \"SurveyEase\" TEXT\n",
            ")\n"
          ]
        }
      ],
      "source": [
        "table_name = 'master'  # the table you wish to describe\n",
        "\n",
        "query = \"\"\"\n",
        "SELECT sql FROM sqlite_master\n",
        "WHERE name= '{}'\n",
        "\"\"\".format(table_name)\n",
        "\n",
        "df = pd.read_sql_query(query, conn)\n",
        "print(df.iat[0,0])"
      ]
    },
    {
      "cell_type": "markdown",
      "metadata": {
        "id": "Tp8zq3UWywIq"
      },
      "source": [
        "# Hands-on Lab\n"
      ]
    },
    {
      "cell_type": "markdown",
      "metadata": {
        "id": "b11aLgaGywIr"
      },
      "source": [
        "## Visualizing distribution of data\n"
      ]
    },
    {
      "cell_type": "markdown",
      "metadata": {
        "id": "7JSEsgabywIt"
      },
      "source": [
        "### Histograms\n"
      ]
    },
    {
      "cell_type": "markdown",
      "metadata": {
        "id": "M5RrfA0cywIv"
      },
      "source": [
        "Plot a histogram of `ConvertedComp.`\n"
      ]
    },
    {
      "cell_type": "code",
      "execution_count": 129,
      "metadata": {
        "colab": {
          "base_uri": "https://localhost:8080/",
          "height": 382
        },
        "id": "HB7EdyZnywIx",
        "outputId": "b4ecec38-1bfd-4b1e-d3c0-13d58418de2f"
      },
      "outputs": [
        {
          "output_type": "display_data",
          "data": {
            "text/plain": [
              "<Figure size 720x360 with 1 Axes>"
            ],
            "image/png": "[encoded data removed]"
          },
          "metadata": {
            "needs_background": "light"
          }
        }
      ],
      "source": [
        "# Quering the data from the database\n",
        "query_1 = \"\"\"\n",
        "SELECT ConvertedComp \n",
        "FROM master\n",
        "\"\"\"\n",
        "\n",
        "# Reading the data into a pandas's dataframe\n",
        "data = pd.read_sql_query(query_1, conn)\n",
        "\n",
        "\n",
        "# ------- PLOTING THE HISTOGRAM ------- #\n",
        "\n",
        "# Setting the figure size for this plot\n",
        "fig, ax = plt.subplots(1, figsize=(10, 5))\n",
        "\n",
        "# # Ploting a histogram with 30 bins on the \"ConvertedComp\" column\n",
        "plot = sns.histplot(data, bins = 100, legend = False)\n",
        "\n",
        "# Setting the plot title\n",
        "plot.set_title(\"ConvertedComp Distribution Histogram\", fontsize= 16, fontweight = \"bold\", pad = 20)\n",
        "\n",
        "# Setting the x-label\n",
        "plot.set_xlabel(\"ConvertedComp\", fontsize = 15, labelpad = 10)\n",
        "# Removing the y-label for readability\n",
        "plot.set_ylabel(\" \")\n",
        "\n",
        "# Highlighting the the frequent respondent age range \n",
        "for n in range(0, 9):\n",
        "  plot.patches[n].set_facecolor(\"blue\")\n",
        "\n",
        "# Increasing the ticks font size\n",
        "plt.xticks(fontsize = 15)\n",
        "plt.yticks(fontsize = 15)\n",
        "\n",
        "# Removing plot spine and setting style\n",
        "sns.despine(top = True)\n",
        "\n",
        "# Adding the grid\n",
        "sns.set_style(\"whitegrid\", {\"axes.grid\" : False})\n",
        "\n",
        "# Showing the plot\n",
        "plt.show()"
      ]
    },
    {
      "cell_type": "markdown",
      "metadata": {
        "id": "Oi0UodqRywIz"
      },
      "source": [
        "### Box Plots\n"
      ]
    },
    {
      "cell_type": "markdown",
      "metadata": {
        "id": "ZFLwx5PGywI2"
      },
      "source": [
        "Plot a box plot of `Age.`\n"
      ]
    },
    {
      "cell_type": "code",
      "execution_count": 140,
      "metadata": {
        "colab": {
          "base_uri": "https://localhost:8080/",
          "height": 356
        },
        "id": "5QDC9F1WywI3",
        "outputId": "3a94de11-be8c-4be4-a8ac-3a35e730c08d"
      },
      "outputs": [
        {
          "output_type": "display_data",
          "data": {
            "text/plain": [
              "<Figure size 720x360 with 1 Axes>"
            ],
            "image/png": "[encoded data removed]"
          },
          "metadata": {}
        }
      ],
      "source": [
        "# Quering the data from the database\n",
        "query_2 = \"\"\"\n",
        "SELECT Age \n",
        "FROM master\n",
        "\"\"\"\n",
        "\n",
        "# Reading the data into a pandas's dataframe\n",
        "data = pd.read_sql_query(query_2, conn)\n",
        "\n",
        "\n",
        "# ------- PLOTING THE BOXPLOT ------- #\n",
        "\n",
        "# Setting the figure size for this plot\n",
        "fig, ax = plt.subplots(1, figsize=(10, 5))\n",
        "\n",
        "# Ploting a boxplot on the 'Age' column\n",
        "plot = sns.boxplot(y = data[\"Age\"])\n",
        "\n",
        "# Setting the plot title\n",
        "plot.set_title(\"Age Distribution Boxplot\", fontsize= 16, fontweight = \"bold\", pad = 20)\n",
        "\n",
        "# Removing the x-label\n",
        "plot.set_xlabel(\" \")\n",
        "# Setting the y-labels\n",
        "plot.set_ylabel(\"Age\", fontsize = 20, labelpad = 5)\n",
        "\n",
        "# Increasing the y-ticks font size\n",
        "plt.yticks(fontsize = 15)\n",
        "plt.ylim(15, 100)\n",
        "\n",
        "# Removing plot spine and setting style\n",
        "sns.despine()\n",
        "sns.set_style(\"whitegrid\", {\"axes.grid\" : True})\n",
        "\n",
        "# Showing the plot\n",
        "plt.show()"
      ]
    },
    {
      "cell_type": "markdown",
      "metadata": {
        "id": "qfiYv9LZywI6"
      },
      "source": [
        "### Scatter Plots\n"
      ]
    },
    {
      "cell_type": "markdown",
      "metadata": {
        "id": "LbXP0LR9ywI7"
      },
      "source": [
        "Create a scatter plot of `Age` and `WorkWeekHrs.`\n"
      ]
    },
    {
      "cell_type": "code",
      "execution_count": 142,
      "metadata": {
        "colab": {
          "base_uri": "https://localhost:8080/",
          "height": 382
        },
        "id": "P7kjv3HeywI-",
        "outputId": "899bcfee-ea6d-4565-e4d7-23c114d8133d"
      },
      "outputs": [
        {
          "output_type": "display_data",
          "data": {
            "text/plain": [
              "<Figure size 720x360 with 1 Axes>"
            ],
            "image/png": "[encoded data removed]"
          },
          "metadata": {}
        }
      ],
      "source": [
        "# Quering the data from the database\n",
        "query_3 = \"\"\"\n",
        "SELECT Age\n",
        "FROM master\n",
        "\"\"\"\n",
        "query_4 = \"\"\"\n",
        "SELECT WorkWeekHrs\n",
        "FROM master\n",
        "\"\"\"\n",
        "\n",
        "# Reading the data into a pandas's dataframe\n",
        "\n",
        "# Age data\n",
        "age_data = pd.read_sql_query(query_3, conn)\n",
        "\n",
        "# work_weeks_data\n",
        "work_weeks_data = pd.read_sql_query(query_4, conn)\n",
        "\n",
        "\n",
        "# ------- PLOTING THE SCATTERPLOT ------- #\n",
        "\n",
        "# Setting the figure size for this plot\n",
        "fig, ax = plt.subplots(1, figsize=(10, 5))\n",
        "\n",
        "# # Ploting the scatter-plot\n",
        "plot = sns.scatterplot(x = age_data[\"Age\"], y = work_weeks_data[\"WorkWeekHrs\"])\n",
        "\n",
        "# Setting the plot title\n",
        "plot.set_title(\"Week's Working Hours To Code Revenue Hours\", fontsize= 16, fontweight = \"bold\", pad = 20)\n",
        "\n",
        "# Setting the x-label\n",
        "plot.set_xlabel(\"Age\", fontsize = 15, labelpad = 10)\n",
        "# Setting the x-label\n",
        "plot.set_ylabel(\"Work Weeks Hours\", fontsize = 15, labelpad = 10)\n",
        "\n",
        "# Increasing the ticks font size\n",
        "plt.xticks(fontsize = 15)\n",
        "plt.yticks(fontsize = 15)\n",
        "\n",
        "# Removing plot spine\n",
        "sns.despine(top = True)\n",
        "\n",
        "# Adding the grid\n",
        "sns.set_style(\"whitegrid\", {\"axes.grid\" : False})\n",
        "\n",
        "# Showing the plot\n",
        "plt.show()"
      ]
    },
    {
      "cell_type": "markdown",
      "metadata": {
        "id": "DtSjLETFywJD"
      },
      "source": [
        "### Bubble Plots\n"
      ]
    },
    {
      "cell_type": "markdown",
      "metadata": {
        "id": "9Rpdiwe_ywJF"
      },
      "source": [
        "Create a bubble plot of `WorkWeekHrs` and `CodeRevHrs`, use `Age` column as bubble size.\n"
      ]
    },
    {
      "cell_type": "code",
      "execution_count": 132,
      "metadata": {
        "colab": {
          "base_uri": "https://localhost:8080/",
          "height": 382
        },
        "id": "gzuiNQAkywJH",
        "outputId": "eb101518-e783-46d3-ad11-9a51ca418592"
      },
      "outputs": [
        {
          "output_type": "display_data",
          "data": {
            "text/plain": [
              "<Figure size 720x360 with 1 Axes>"
            ],
            "image/png": "[encoded data removed]"
          },
          "metadata": {}
        }
      ],
      "source": [
        "# Quering the data from the database\n",
        "query_5 = \"\"\"\n",
        "SELECT CodeRevHrs \n",
        "FROM master\n",
        "\"\"\"\n",
        "\n",
        "# Reading the data into a pandas's dataframe\n",
        "rev_hrs = pd.read_sql_query(query_5, conn)\n",
        "\n",
        "\n",
        "# ------- PLOTING THE BUBBLE PLOT ------- #\n",
        "\n",
        "# Setting the figure size for this plot\n",
        "fig, ax = plt.subplots(1, figsize=(10, 5))\n",
        "\n",
        "# # Ploting a scatterplot \n",
        "plot = sns.scatterplot(\n",
        "  x = work_weeks_data[\"WorkWeekHrs\"], \n",
        "  y = rev_hrs[\"CodeRevHrs\"], \n",
        "  size = age_data[\"Age\"], \n",
        "  hue = age_data[\"Age\"],\n",
        "  palette = \"Blues\",\n",
        "  sizes = (20, 300)\n",
        ")\n",
        "\n",
        "# Setting the plot title\n",
        "plot.set_title(\"Week's Working Hours To Code Revenue Hours By Age\", fontsize= 16, fontweight = \"bold\", pad = 20)\n",
        "\n",
        "# Setting the x-label\n",
        "plot.set_xlabel(\"Work Weeks Hours\", fontsize = 15, labelpad = 10)\n",
        "# Setting the x-label\n",
        "plot.set_ylabel(\"Code Revenue Hours\", fontsize = 15, labelpad = 10)\n",
        "\n",
        "# Increasing the ticks font size\n",
        "plt.xticks(fontsize = 15)\n",
        "plt.yticks(fontsize = 15)\n",
        "\n",
        "# Removing plot spine\n",
        "sns.despine(top = True)\n",
        "\n",
        "# Adding the grid\n",
        "sns.set_style(\"whitegrid\", {\"axes.grid\" : False})\n",
        "\n",
        "# Showing the plot\n",
        "plt.show()"
      ]
    },
    {
      "cell_type": "markdown",
      "metadata": {
        "id": "uEPrSOs8ywJJ"
      },
      "source": [
        "## Visualizing composition of data\n"
      ]
    },
    {
      "cell_type": "markdown",
      "metadata": {
        "id": "N6H8ARS6ywJK"
      },
      "source": [
        "### Pie Charts\n"
      ]
    },
    {
      "cell_type": "markdown",
      "metadata": {
        "id": "XLLGKvBeywJL"
      },
      "source": [
        "Create a pie chart of the top 5 databases that respondents wish to learn next year. Label the pie chart with database names. Display percentages of each database on the pie chart.\n"
      ]
    },
    {
      "cell_type": "code",
      "execution_count": 133,
      "metadata": {
        "colab": {
          "base_uri": "https://localhost:8080/",
          "height": 335
        },
        "id": "fheNGpPyywJN",
        "outputId": "ef52b812-e6f1-43bb-cb93-dbc205e5ba9a"
      },
      "outputs": [
        {
          "output_type": "display_data",
          "data": {
            "text/plain": [
              "<Figure size 720x360 with 1 Axes>"
            ],
            "image/png": "[encoded data removed]"
          },
          "metadata": {}
        }
      ],
      "source": [
        "# Quering the data from the database\n",
        "query_6 = \"\"\"\n",
        "SELECT DatabaseDesireNextYear, COUNT(*) AS Count\n",
        "FROM DatabaseDesireNextYear\n",
        "GROUP BY DatabaseDesireNextYear\n",
        "ORDER BY Count DESC \n",
        "LIMIT  5\n",
        "\"\"\"\n",
        "\n",
        "# Reading the data into a pandas's dataframe\n",
        "database_nxt_year = pd.read_sql_query(query_6, conn)\n",
        "\n",
        "# Saving the data into a variable \n",
        "data = database_nxt_year[\"Count\"]\n",
        "# Saving the labels to be ploted on the pie-chart in a variable\n",
        "label = database_nxt_year[\"DatabaseDesireNextYear\"]\n",
        "\n",
        "\n",
        "# ------- PLOTING THE PIECHART ------- #\n",
        "\n",
        "# Setting the figure size for this plot\n",
        "plt.figure(figsize=(10, 5))\n",
        "\n",
        "# Setting the explode parameter values (Explode 'PostgreSQL').\n",
        "myexplode = [0.1, 0, 0, 0, 0]\n",
        "\n",
        "# Ploting the pie chart.\n",
        "plt.pie(\n",
        "    data, \n",
        "    labels = label, \n",
        "    autopct = \"%.0f%%\", \n",
        "    explode = myexplode,  \n",
        "    textprops = {\"fontsize\": 14}\n",
        ")\n",
        "\n",
        "# Setting the plot title\n",
        "plt.title(\"Databases That Are Desired Next Year\", fontsize= 16, fontweight = \"bold\", pad = 20)\n",
        "\n",
        "# Showing the plot\n",
        "plt.show()"
      ]
    },
    {
      "cell_type": "code",
      "execution_count": 134,
      "metadata": {
        "colab": {
          "base_uri": "https://localhost:8080/",
          "height": 81
        },
        "id": "8YiM7TxvywJO",
        "outputId": "99dc7983-958e-43d9-e940-966781e56345"
      },
      "outputs": [
        {
          "output_type": "execute_result",
          "data": {
            "text/plain": [
              "  LanguageDesireNextYear  Count\n",
              "0             JavaScript   6630"
            ],
            "text/html": [
              "\n",
              "  <div id=\"df-0c712fac-c31b-4ccd-ad88-7e62b6954440\">\n",
              "    <div class=\"colab-df-container\">\n",
              "      <div>\n",
              "<style scoped>\n",
              "    .dataframe tbody tr th:only-of-type {\n",
              "        vertical-align: middle;\n",
              "    }\n",
              "\n",
              "    .dataframe tbody tr th {\n",
              "        vertical-align: top;\n",
              "    }\n",
              "\n",
              "    .dataframe thead th {\n",
              "        text-align: right;\n",
              "    }\n",
              "</style>\n",
              "<table border=\"1\" class=\"dataframe\">\n",
              "  <thead>\n",
              "    <tr style=\"text-align: right;\">\n",
              "      <th></th>\n",
              "      <th>LanguageDesireNextYear</th>\n",
              "      <th>Count</th>\n",
              "    </tr>\n",
              "  </thead>\n",
              "  <tbody>\n",
              "    <tr>\n",
              "      <th>0</th>\n",
              "      <td>JavaScript</td>\n",
              "      <td>6630</td>\n",
              "    </tr>\n",
              "  </tbody>\n",
              "</table>\n",
              "</div>\n",
              "      <button class=\"colab-df-convert\" onclick=\"convertToInteractive('df-0c712fac-c31b-4ccd-ad88-7e62b6954440')\"\n",
              "              title=\"Convert this dataframe to an interactive table.\"\n",
              "              style=\"display:none;\">\n",
              "        \n",
              "  <svg xmlns=\"http://www.w3.org/2000/svg\" height=\"24px\"viewBox=\"0 0 24 24\"\n",
              "       width=\"24px\">\n",
              "    <path d=\"M0 0h24v24H0V0z\" fill=\"none\"/>\n",
              "    <path d=\"M18.56 5.44l.94 2.06.94-2.06 2.06-.94-2.06-.94-.94-2.06-.94 2.06-2.06.94zm-11 1L8.5 8.5l.94-2.06 2.06-.94-2.06-.94L8.5 2.5l-.94 2.06-2.06.94zm10 10l.94 2.06.94-2.06 2.06-.94-2.06-.94-.94-2.06-.94 2.06-2.06.94z\"/><path d=\"M17.41 7.96l-1.37-1.37c-.4-.4-.92-.59-1.43-.59-.52 0-1.04.2-1.43.59L10.3 9.45l-7.72 7.72c-.78.78-.78 2.05 0 2.83L4 21.41c.39.39.9.59 1.41.59.51 0 1.02-.2 1.41-.59l7.78-7.78 2.81-2.81c.8-.78.8-2.07 0-2.86zM5.41 20L4 18.59l7.72-7.72 1.47 1.35L5.41 20z\"/>\n",
              "  </svg>\n",
              "      </button>\n",
              "      \n",
              "  <style>\n",
              "    .colab-df-container {\n",
              "      display:flex;\n",
              "      flex-wrap:wrap;\n",
              "      gap: 12px;\n",
              "    }\n",
              "\n",
              "    .colab-df-convert {\n",
              "      background-color: #E8F0FE;\n",
              "      border: none;\n",
              "      border-radius: 50%;\n",
              "      cursor: pointer;\n",
              "      display: none;\n",
              "      fill: #1967D2;\n",
              "      height: 32px;\n",
              "      padding: 0 0 0 0;\n",
              "      width: 32px;\n",
              "    }\n",
              "\n",
              "    .colab-df-convert:hover {\n",
              "      background-color: #E2EBFA;\n",
              "      box-shadow: 0px 1px 2px rgba(60, 64, 67, 0.3), 0px 1px 3px 1px rgba(60, 64, 67, 0.15);\n",
              "      fill: #174EA6;\n",
              "    }\n",
              "\n",
              "    [theme=dark] .colab-df-convert {\n",
              "      background-color: #3B4455;\n",
              "      fill: #D2E3FC;\n",
              "    }\n",
              "\n",
              "    [theme=dark] .colab-df-convert:hover {\n",
              "      background-color: #434B5C;\n",
              "      box-shadow: 0px 1px 3px 1px rgba(0, 0, 0, 0.15);\n",
              "      filter: drop-shadow(0px 1px 2px rgba(0, 0, 0, 0.3));\n",
              "      fill: #FFFFFF;\n",
              "    }\n",
              "  </style>\n",
              "\n",
              "      <script>\n",
              "        const buttonEl =\n",
              "          document.querySelector('#df-0c712fac-c31b-4ccd-ad88-7e62b6954440 button.colab-df-convert');\n",
              "        buttonEl.style.display =\n",
              "          google.colab.kernel.accessAllowed ? 'block' : 'none';\n",
              "\n",
              "        async function convertToInteractive(key) {\n",
              "          const element = document.querySelector('#df-0c712fac-c31b-4ccd-ad88-7e62b6954440');\n",
              "          const dataTable =\n",
              "            await google.colab.kernel.invokeFunction('convertToInteractive',\n",
              "                                                     [key], {});\n",
              "          if (!dataTable) return;\n",
              "\n",
              "          const docLinkHtml = 'Like what you see? Visit the ' +\n",
              "            '<a target=\"_blank\" href=https://colab.research.google.com/notebooks/data_table.ipynb>data table notebook</a>'\n",
              "            + ' to learn more about interactive tables.';\n",
              "          element.innerHTML = '';\n",
              "          dataTable['output_type'] = 'display_data';\n",
              "          await google.colab.output.renderOutput(dataTable, element);\n",
              "          const docLink = document.createElement('div');\n",
              "          docLink.innerHTML = docLinkHtml;\n",
              "          element.appendChild(docLink);\n",
              "        }\n",
              "      </script>\n",
              "    </div>\n",
              "  </div>\n",
              "  "
            ]
          },
          "metadata": {},
          "execution_count": 134
        }
      ],
      "source": [
        "# Quering the data from the database\n",
        "query_7 = \"\"\"\n",
        "SELECT LanguageDesireNextYear, COUNT(*) AS Count\n",
        "FROM LanguageDesireNextYear\n",
        "GROUP BY LanguageDesireNextYear\n",
        "ORDER BY Count DESC \n",
        "LIMIT 10\n",
        "\"\"\"\n",
        "\n",
        "# Reading the data into a pandas's dataframe\n",
        "lang_desire_nxt_year = pd.read_sql_query(query_7, conn)\n",
        "\n",
        "# Printing out the most desired programming language next year\n",
        "lang_desire_nxt_year.sort_values(\"Count\", ascending = False).head(1)"
      ]
    },
    {
      "cell_type": "code",
      "execution_count": 135,
      "metadata": {
        "colab": {
          "base_uri": "https://localhost:8080/"
        },
        "id": "bZ24XcwtywJR",
        "outputId": "735dc5fb-a06c-42ad-9e5e-569e4055a769"
      },
      "outputs": [
        {
          "output_type": "stream",
          "name": "stdout",
          "text": [
            "There are 474 respondent what only use 'MySQL'\n"
          ]
        }
      ],
      "source": [
        "# Quering the data from the database\n",
        "query_8 = \"\"\"\n",
        "SELECT respondent, DatabaseWorkedWith \n",
        "FROM DatabaseWorkedWith \n",
        "WHERE respondent IN \n",
        "                (\n",
        "                SELECT respondent \n",
        "                FROM (\n",
        "                      SELECT respondent, COUNT(respondent) AS LangCount\n",
        "                      FROM DatabaseWorkedWith\n",
        "                      GROUP BY Respondent\n",
        "                      ) \n",
        "                WHERE LangCount = 1\n",
        "                ) AND \n",
        "                  DatabaseWorkedWith = 'MySQL'\n",
        "\"\"\"\n",
        "\n",
        "# Reading the data into a pandas's dataframe\n",
        "repond_only_mysql =  pd.read_sql_query(query_8, conn)\n",
        "\n",
        "# Counting the Respondent\n",
        "repond_only_mysql_count = repond_only_mysql[\"Respondent\"].count()\n",
        "\n",
        "#Printing out the findings\n",
        "print(f\"There are {repond_only_mysql_count} respondent what only use 'MySQL'\")"
      ]
    },
    {
      "cell_type": "markdown",
      "metadata": {
        "id": "sQne8MbUywJU"
      },
      "source": [
        "### Stacked Charts\n"
      ]
    },
    {
      "cell_type": "markdown",
      "metadata": {
        "id": "0FTKiUuqywJV"
      },
      "source": [
        "Create a stacked chart of median `WorkWeekHrs` and `CodeRevHrs` for the age group 30 to 35.\n"
      ]
    },
    {
      "cell_type": "code",
      "execution_count": 136,
      "metadata": {
        "colab": {
          "base_uri": "https://localhost:8080/",
          "height": 392
        },
        "id": "_jqSSTkFywJX",
        "outputId": "0d94836d-f1ca-4796-cefa-c0cfd8e5ab6d"
      },
      "outputs": [
        {
          "output_type": "display_data",
          "data": {
            "text/plain": [
              "<Figure size 1080x360 with 1 Axes>"
            ],
            "image/png": "[encoded data removed]"
          },
          "metadata": {}
        }
      ],
      "source": [
        "# Quering the data from the database\n",
        "query_9 = \"\"\"\n",
        "SELECT AVG(WorkWeekHrs), AVG(CodeRevHrs), Age \n",
        "FROM master \n",
        "WHERE Age BETWEEN 30 AND 35\n",
        "GROUP BY Age\n",
        "\"\"\"\n",
        "\n",
        "# Reading the data into a pandas's dataframe\n",
        "data = pd.read_sql_query(query_9, conn)\n",
        "\n",
        "# The Age column\n",
        "age = data[\"Age\"]\n",
        "# The average work_weeks_hrs column\n",
        "avg_work_weeks_hrs = data[\"AVG(WorkWeekHrs)\"]\n",
        "# The average code_rev_hrs column\n",
        "avg_code_rev_hrs = data[\"AVG(CodeRevHrs)\"]\n",
        "\n",
        "\n",
        "# ------- PLOTING THE STACKED BAR-CHART ------- #\n",
        "\n",
        "# Initiating the pyplot figure object and configuring the figure size\n",
        "fig = plt.figure(figsize = (15, 5))\n",
        "# Adda subplot to the figure object\n",
        "ax = fig.add_subplot()\n",
        "\n",
        "# Removing the top plot spines\n",
        "ax.spines[\"top\"].set_visible(False)\n",
        "\n",
        "# Ploting the graph bars\n",
        "plt.bar(data[\"Age\"], avg_work_weeks_hrs, label = \"WorkWeekHrs\")\n",
        "plt.bar(data[\"Age\"], avg_code_rev_hrs, bottom = avg_work_weeks_hrs, label = \"CodeRevHrs\")\n",
        "\n",
        "# Setting up the legend\n",
        "plt.legend(bbox_to_anchor=(1, 1), loc=\"upper left\", fancybox = True, shadow = True)\n",
        "\n",
        "# Setting the plot title\n",
        "plt.title(\n",
        "  \"The Average of WorkWeekHrs and CodeRevHrs for Age groups (30 to 35)\",\n",
        "  fontsize= 16,\n",
        "  fontweight = \"bold\",\n",
        "  pad = 20\n",
        ")\n",
        "\n",
        "# Setting the x-label name with font size and increasing for readability distance between the ticks\n",
        "plt.xlabel(\"Age Groups\", fontsize = 15, labelpad = 20)\n",
        "# Setting the y-label name with font size and increasing for readability distance between the ticks\n",
        "plt.ylabel(\"WorkWeekHrs & CodeRevHrs\", fontsize = 15, labelpad = 10)\n",
        "\n",
        "# Increasing the ticks font sizes\n",
        "plt.xticks(fontsize = 15)\n",
        "plt.yticks(fontsize = 15)\n",
        "\n",
        "# Removing grid\n",
        "sns.set_style(\"whitegrid\", {\"axes.grid\" : False})\n",
        "\n",
        "# Showing the plot\n",
        "plt.show()"
      ]
    },
    {
      "cell_type": "markdown",
      "metadata": {
        "id": "Iy1xSMQ2ywJY"
      },
      "source": [
        "## Visualizing comparison of data\n"
      ]
    },
    {
      "cell_type": "markdown",
      "metadata": {
        "id": "FDqVUaleywJZ"
      },
      "source": [
        "### Line Chart\n"
      ]
    },
    {
      "cell_type": "markdown",
      "metadata": {
        "id": "jRrjanySywJb"
      },
      "source": [
        "Plot the median `ConvertedComp` for all ages from 45 to 60.\n"
      ]
    },
    {
      "cell_type": "code",
      "execution_count": 144,
      "metadata": {
        "colab": {
          "base_uri": "https://localhost:8080/",
          "height": 382
        },
        "id": "-yBTV5hxywJe",
        "outputId": "adbaadf1-168c-4ef0-a7d5-d53d94776969"
      },
      "outputs": [
        {
          "output_type": "display_data",
          "data": {
            "text/plain": [
              "<Figure size 720x360 with 1 Axes>"
            ],
            "image/png": "[encoded data removed]"
          },
          "metadata": {}
        }
      ],
      "source": [
        "# Quering the data from the database\n",
        "query_10 = \"\"\"\n",
        "SELECT AVG(ConvertedComp), Age\n",
        "FROM master\n",
        "WHERE age between 45 and 60\n",
        "GROUP BY Age\n",
        "\"\"\"\n",
        "\n",
        "# Reading the data into a pandas's dataframe\n",
        "conv_comp_age =  pd.read_sql_query(query_10, conn)\n",
        "\n",
        "# Age Column\n",
        "age = conv_comp_age[\"Age\"]\n",
        "# The ConvertedComp column average\n",
        "avg_conv_comp_age = conv_comp_age[\"AVG(ConvertedComp)\"]\n",
        "\n",
        "\n",
        "# ------- PLOTING THE LINE GRAPH ------- #\n",
        "\n",
        "# Setting the figure size for this plot\n",
        "fig, ax = plt.subplots(1, figsize=(10, 5))\n",
        "\n",
        "# # Ploting a line-plot \n",
        "plot = sns.lineplot(x = age, y = avg_conv_comp_age)\n",
        "\n",
        "# Setting the plot title\n",
        "plot.set_title(\"The Average ConvertedComp For Ages From 45 To 60\", fontsize= 16, fontweight = \"bold\", pad = 20)\n",
        "\n",
        "# Setting the x-label\n",
        "plot.set_xlabel(\"Age\", fontsize = 15, labelpad = 10)\n",
        "# Setting the x-label\n",
        "plot.set_ylabel(\"Average ConvertedComp\", fontsize = 15, labelpad = 13)\n",
        "\n",
        "# Increasing the x-ticks font size\n",
        "plt.xticks(fontsize = 15)\n",
        "plt.yticks(fontsize = 15)\n",
        "\n",
        "# Removing plot spine and setting style\n",
        "sns.despine(top = True)\n",
        "\n",
        "# Adding the grid\n",
        "sns.set_style(\"whitegrid\", {\"axes.grid\" : True})\n",
        "\n",
        "# Showing the plot\n",
        "plt.show()"
      ]
    },
    {
      "cell_type": "markdown",
      "metadata": {
        "id": "1Bkt-WLIywJi"
      },
      "source": [
        "### Bar Chart\n"
      ]
    },
    {
      "cell_type": "markdown",
      "metadata": {
        "id": "akJL9BdJywJj"
      },
      "source": [
        "Create a horizontal bar chart using column `MainBranch.`\n"
      ]
    },
    {
      "cell_type": "code",
      "execution_count": 146,
      "metadata": {
        "colab": {
          "base_uri": "https://localhost:8080/",
          "height": 382
        },
        "id": "ePyxY3UzywJk",
        "outputId": "54c5f7a9-3408-476a-b042-8336d57842c0"
      },
      "outputs": [
        {
          "output_type": "display_data",
          "data": {
            "text/plain": [
              "<Figure size 720x360 with 1 Axes>"
            ],
            "image/png": "[encoded data removed]"
          },
          "metadata": {}
        }
      ],
      "source": [
        "# Quering the data from the database\n",
        "query_11 = \"\"\"\n",
        "SELECT MainBranch, COUNT(*) AS Count\n",
        "FROM master\n",
        "GROUP BY MainBranch\n",
        "\"\"\"\n",
        "\n",
        "# Reading the data into a pandas's dataframe\n",
        "main_branch = pd.read_sql_query(query_11, conn)\n",
        "\n",
        "# Cleaning the data\n",
        "main_branch[\"MainBranch\"].replace(to_replace = \"I am a developer by profession\", value = \"professional developer\", inplace = True)\n",
        "main_branch[\"MainBranch\"].replace(to_replace = \"I am not primarily a developer, but I write code sometimes as part of my work\", value = \"not a professional developer\", inplace = True)\n",
        "\n",
        "\n",
        "# ------- PLOTING THE HORIZONTAL BAR CHART ------- #\n",
        "\n",
        "# Setting the figure size for this plot\n",
        "fig, ax = plt.subplots(1, figsize=(10, 5))\n",
        "\n",
        "# Ploting a horizontal bar chat\n",
        "plot = sns.barplot(x = main_branch[\"Count\"], y = main_branch[\"MainBranch\"], orient = \"h\")\n",
        "\n",
        "# Setting the plot title\n",
        "plot.set_title(\"Type Of Responders In Survey\", fontsize= 16, fontweight = \"bold\", pad = 20)\n",
        "\n",
        "# Setting the x-label\n",
        "plot.set_xlabel(\"Count\", fontsize = 15, labelpad = 10)\n",
        "# Setting the x-label\n",
        "plot.set_ylabel(\"Category\", fontsize = 15, labelpad = 13)\n",
        "\n",
        "# Increasing the x-ticks font size\n",
        "plt.xticks(fontsize = 15)\n",
        "plt.yticks(fontsize = 10)\n",
        "\n",
        "# Removing plot spine and setting style\n",
        "sns.despine(top = True)\n",
        "\n",
        "# Adding the grid\n",
        "sns.set_style(\"whitegrid\", {\"axes.grid\" : False})\n",
        "\n",
        "# Showing the plot\n",
        "plt.show()\n"
      ]
    },
    {
      "cell_type": "markdown",
      "metadata": {
        "id": "kvKUhRB-ywJl"
      },
      "source": [
        "Close the database connection.\n"
      ]
    },
    {
      "cell_type": "code",
      "execution_count": null,
      "metadata": {
        "id": "bosdfTMjywJm"
      },
      "outputs": [],
      "source": [
        "# Closing the database connection\n",
        "conn.close()"
      ]
    },
    {
      "cell_type": "markdown",
      "metadata": {
        "id": "WdvDUFS7ywJo"
      },
      "source": [
        "## Authors\n"
      ]
    },
    {
      "cell_type": "markdown",
      "metadata": {
        "id": "OwUjkapnywJq"
      },
      "source": [
        "Ramesh Sannareddy\n"
      ]
    },
    {
      "cell_type": "markdown",
      "metadata": {
        "id": "eM1zCr8XywJr"
      },
      "source": [
        "### Other Contributors\n"
      ]
    },
    {
      "cell_type": "markdown",
      "metadata": {
        "id": "vlQaQkByywJs"
      },
      "source": [
        "Rav Ahuja\n"
      ]
    },
    {
      "cell_type": "markdown",
      "metadata": {
        "id": "dIfZBcWCywJu"
      },
      "source": [
        "## Change Log\n"
      ]
    },
    {
      "cell_type": "markdown",
      "metadata": {
        "id": "IW1HRnt2ywJv"
      },
      "source": [
        "| Date (YYYY-MM-DD) | Version | Changed By        | Change Description                 |\n",
        "| ----------------- | ------- | ----------------- | ---------------------------------- |\n",
        "| 2020-10-17        | 0.1     | Ramesh Sannareddy | Created initial version of the lab |\n"
      ]
    },
    {
      "cell_type": "markdown",
      "metadata": {
        "id": "9yx8lLAjywJw"
      },
      "source": [
        "Copyright © 2020 IBM Corporation. This notebook and its source code are released under the terms of the [MIT License](https://cognitiveclass.ai/mit-license?utm_medium=Exinfluencer&utm_source=Exinfluencer&utm_content=000026UJ&utm_term=10006555&utm_id=NA-SkillsNetwork-Channel-SkillsNetworkCoursesIBMDA0321ENSkillsNetwork21426264-2022-01-01&cm_mmc=Email_Newsletter-\\_-Developer_Ed%2BTech-\\_-WW_WW-\\_-SkillsNetwork-Courses-IBM-DA0321EN-SkillsNetwork-21426264&cm_mmca1=000026UJ&cm_mmca2=10006555&cm_mmca3=M12345678&cvosrc=email.Newsletter.M12345678&cvo_campaign=000026UJ).\n"
      ]
    }
  ],
  "metadata": {
    "kernelspec": {
      "display_name": "Python",
      "language": "python",
      "name": "conda-env-python-py"
    },
    "language_info": {
      "codemirror_mode": {
        "name": "ipython",
        "version": 3
      },
      "file_extension": ".py",
      "mimetype": "text/x-python",
      "name": "python",
      "nbconvert_exporter": "python",
      "pygments_lexer": "ipython3",
      "version": "3.7.12"
    },
    "colab": {
      "provenance": []
    }
  },
  "nbformat": 4,
  "nbformat_minor": 0
}